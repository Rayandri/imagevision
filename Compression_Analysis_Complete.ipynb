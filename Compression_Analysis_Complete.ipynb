{
  "cells": [
    {
      "cell_type": "markdown",
      "metadata": {
        "vscode": {
          "languageId": "raw"
        }
      },
      "source": [
        "# Analyse de l'Impact de la Compression sur un Moteur de Recherche d'Images\n",
        "\n",
        "Ce projet étudie l'influence de différentes méthodes de compression sur les performances d'un moteur de recherche d'images basé sur la similarité visuelle. L'analyse compare quatre approches : deux méthodes classiques (PNG sans perte et JPEG avec perte) et deux méthodes modernes (compression par ondelettes de Haar et transformation DCT).\n",
        "\n",
        "Le dataset utilisé contient environ 3000 images de montagnes et de neige avec des features CNN pré-extraites (11520 dimensions). L'objectif est de quantifier le compromis entre efficacité de compression et préservation de la qualité de recherche.\n",
        "\n",
        "**Méthodologie :**\n",
        "- Compression des images avec les quatre méthodes sélectionnées\n",
        "- Mesure des métriques de qualité (PSNR, SSIM) et d'efficacité (ratio de compression, temps)\n",
        "- Évaluation de l'impact sur la précision du moteur de recherche par similarité visuelle\n",
        "- Analyse comparative des résultats pour identifier les approches optimales selon le contexte d'usage\n"
      ]
    },
    {
      "cell_type": "code",
      "execution_count": 1,
      "metadata": {},
      "outputs": [
        {
          "name": "stdout",
          "output_type": "stream",
          "text": [
            "Analyse de compression d'images pour moteur de recherche\n",
            "=======================================================\n",
            "Méthodes configurées: ['PNG_Lossless', 'JPEG_Q85', 'Haar_T5.0', 'DCT_Q50']\n",
            "Configuration: 2 méthodes classiques, 2 méthodes modernes\n"
          ]
        }
      ],
      "source": [
        "import sys\n",
        "import pandas as pd\n",
        "import numpy as np\n",
        "from pathlib import Path\n",
        "import time\n",
        "import warnings\n",
        "warnings.filterwarnings('ignore')\n",
        "\n",
        "sys.path.append('libs_vision')\n",
        "from compression_engine import CompressionEvaluator\n",
        "from search_engine import ImageSearchEngine\n",
        "from analysis_tools import CompressionImpactAnalyzer\n",
        "\n",
        "print(\"Analyse de compression d'images pour moteur de recherche\")\n",
        "print(\"=\" * 55)\n",
        "\n",
        "evaluator = CompressionEvaluator()\n",
        "classiques = [m for m in evaluator.methods if m.name.startswith(('PNG', 'JPEG'))]\n",
        "modernes = [m for m in evaluator.methods if m.name.startswith(('Haar', 'DCT'))]\n",
        "\n",
        "print(f\"Méthodes configurées: {[m.name for m in evaluator.methods]}\")\n",
        "print(f\"Configuration: {len(classiques)} méthodes classiques, {len(modernes)} méthodes modernes\")\n"
      ]
    },
    {
      "cell_type": "raw",
      "metadata": {
        "vscode": {
          "languageId": "raw"
        }
      },
      "source": [
        "\n"
      ]
    },
    {
      "cell_type": "code",
      "execution_count": null,
      "metadata": {},
      "outputs": [
        {
          "ename": "",
          "evalue": "",
          "output_type": "error",
          "traceback": [
            "\u001b[1;31mnotebook controller is DISPOSED. \n",
            "\u001b[1;31mView Jupyter <a href='command:jupyter.viewOutput'>log</a> for further details."
          ]
        },
        {
          "ename": "",
          "evalue": "",
          "output_type": "error",
          "traceback": [
            "\u001b[1;31mnotebook controller is DISPOSED. \n",
            "\u001b[1;31mView Jupyter <a href='command:jupyter.viewOutput'>log</a> for further details."
          ]
        }
      ],
      "source": [
        "analyzer = CompressionImpactAnalyzer(data_path=\"data\")\n",
        "\n",
        "print(\"Début de l'analyse de compression\")\n",
        "print(\"Durée estimée : 5 minutes\")\n",
        "print()\n",
        "\n",
        "start_time = time.time()\n",
        "\n",
        "results = analyzer.run_complete_analysis(\n",
        "    max_images=15,\n",
        "    num_queries=10\n",
        ")\n",
        "\n",
        "total_time = time.time() - start_time\n",
        "\n",
        "print(f\"\\nAnalyse terminée en {total_time:.1f}s\")\n",
        "print(f\"Résultats générés: {len(results)} datasets\")\n"
      ]
    },
    {
      "cell_type": "code",
      "execution_count": null,
      "metadata": {},
      "outputs": [
        {
          "ename": "",
          "evalue": "",
          "output_type": "error",
          "traceback": [
            "\u001b[1;31mnotebook controller is DISPOSED. \n",
            "\u001b[1;31mView Jupyter <a href='command:jupyter.viewOutput'>log</a> for further details."
          ]
        },
        {
          "ename": "",
          "evalue": "",
          "output_type": "error",
          "traceback": [
            "\u001b[1;31mnotebook controller is DISPOSED. \n",
            "\u001b[1;31mView Jupyter <a href='command:jupyter.viewOutput'>log</a> for further details."
          ]
        }
      ],
      "source": [
        "report = analyzer.generate_summary_report(results)\n",
        "print(report)\n",
        "\n",
        "timestamp = time.strftime('%Y%m%d_%H%M%S')\n",
        "\n",
        "with open(f'results/rapport_final_compression_{timestamp}.txt', 'w', encoding='utf-8') as f:\n",
        "    f.write(report)\n",
        "\n",
        "if 'compression_evaluation' in results:\n",
        "    results['compression_evaluation'].to_csv(f'results/compression_results_{timestamp}.csv', index=False)\n",
        "    print(f\"Sauvegarde compression: compression_results_{timestamp}.csv\")\n",
        "\n",
        "if 'search_impact' in results:\n",
        "    results['search_impact'].to_csv(f'results/search_impact_{timestamp}.csv', index=False)  \n",
        "    print(f\"Sauvegarde impact recherche: search_impact_{timestamp}.csv\")\n",
        "\n",
        "print(f\"Rapport final: rapport_final_compression_{timestamp}.txt\")\n",
        "print(\"\\nAnalyse terminée - Fichiers de résultats générés\")\n"
      ]
    }
  ],
  "metadata": {
    "kernelspec": {
      "display_name": ".venv (3.10.12)",
      "language": "python",
      "name": "python3"
    },
    "language_info": {
      "codemirror_mode": {
        "name": "ipython",
        "version": 3
      },
      "file_extension": ".py",
      "mimetype": "text/x-python",
      "name": "python",
      "nbconvert_exporter": "python",
      "pygments_lexer": "ipython3",
      "version": "3.10.12"
    }
  },
  "nbformat": 4,
  "nbformat_minor": 2
}
